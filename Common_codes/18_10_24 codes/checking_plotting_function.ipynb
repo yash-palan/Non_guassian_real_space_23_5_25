{
 "cells": [
  {
   "cell_type": "code",
   "execution_count": 1,
   "metadata": {},
   "outputs": [
    {
     "name": "stdout",
     "output_type": "stream",
     "text": [
      "Position space grid created\n",
      "Momentum space grid created\n"
     ]
    }
   ],
   "source": [
    "import numpy as np\n",
    "import global_functions_v3_pytorch_implement_11_7_24 as gf\n",
    "import plotting_graphs_codes\n",
    "import math as mt\n",
    "number_of_points = 10\n",
    "positon_value_max = [10 , 10]\n",
    "positon_value_min = [0  , 0]\n",
    "position_space_grid = gf.coordinate_array_creator_function(positon_value_min,positon_value_max,number_of_points,True)\n",
    "print(\"Position space grid created\")\n",
    "\n",
    "momentum_value_max = [mt.pi/(positon_value_max[0]-positon_value_min[0])*number_of_points ,mt.pi/(positon_value_max[1]-positon_value_min[1])*number_of_points]\n",
    "momentum_value_min = [-mt.pi/(positon_value_max[0]-positon_value_min[0])*number_of_points ,-mt.pi/(positon_value_max[1]-positon_value_min[1])*number_of_points]\n",
    "momentum_space_grid = gf.coordinate_array_creator_function(momentum_value_min,momentum_value_max,number_of_points,False)\n",
    "print(\"Momentum space grid created\")\n",
    "\n",
    "volume = 100"
   ]
  },
  {
   "cell_type": "code",
   "execution_count": 2,
   "metadata": {},
   "outputs": [
    {
     "data": {
      "image/png": "[encoded data removed]",
      "text/plain": [
       "<Figure size 640x480 with 1 Axes>"
      ]
     },
     "metadata": {},
     "output_type": "display_data"
    }
   ],
   "source": [
    "delta_r = np.ones(2*momentum_space_grid.shape[0])\n",
    "plotting_graphs_codes.function_for_plotting_delta_r_in_real_space(delta_r,position_space_grid,momentum_space_grid,volume)"
   ]
  },
  {
   "cell_type": "code",
   "execution_count": 5,
   "metadata": {},
   "outputs": [],
   "source": [
    "import csv   \n",
    "import numpy as np\n",
    "import global_functions_v3_pytorch_implement_11_7_24 as gf\n",
    "\n",
    "data = np.random.rand(10,10)\n",
    "filename = 'trial_for_csv_saving.csv'\n",
    "file = open(filename, 'a')\n",
    "writer = csv.writer(file)\n",
    "# writer.writerows(np.reshape(data,(1,-1)))\n",
    "writer.writerows(data)\n",
    "file.close()"
   ]
  },
  {
   "cell_type": "code",
   "execution_count": 6,
   "metadata": {},
   "outputs": [
    {
     "name": "stdout",
     "output_type": "stream",
     "text": [
      "[[0.87281756 0.51254144 0.4541047  0.63457785 0.63264849 0.59421951\n",
      "  0.8646561  0.30379718 0.9653413  0.7663678 ]\n",
      " [0.32226135 0.44032281 0.48706028 0.25154626 0.41413109 0.24348507\n",
      "  0.22506625 0.55943431 0.62388231 0.06036397]\n",
      " [0.91257977 0.28982224 0.310101   0.79663708 0.43775953 0.12195104\n",
      "  0.09277968 0.73082777 0.84243437 0.43315307]\n",
      " [0.27262828 0.7144021  0.61336083 0.83391202 0.70947748 0.91667945\n",
      "  0.16075099 0.59552495 0.19980688 0.57499474]\n",
      " [0.03701129 0.35601506 0.10258051 0.59191272 0.54568467 0.62252445\n",
      "  0.80099866 0.04699718 0.99695729 0.35044726]\n",
      " [0.96677753 0.7984496  0.87074649 0.47714509 0.87166288 0.97759764\n",
      "  0.19310511 0.41092613 0.75459786 0.53642775]\n",
      " [0.77407201 0.79886483 0.020609   0.02272677 0.27891245 0.05867896\n",
      "  0.8387272  0.11423188 0.91736189 0.42596982]\n",
      " [0.73403089 0.92182347 0.13157687 0.99550898 0.17526403 0.04228423\n",
      "  0.21012985 0.3510306  0.50891587 0.70298039]\n",
      " [0.35659375 0.88323436 0.46003968 0.44592955 0.11866242 0.30094037\n",
      "  0.17619216 0.08376393 0.4568118  0.63294583]\n",
      " [0.08696957 0.53655902 0.37775001 0.0870502  0.05689735 0.16065729\n",
      "  0.97038946 0.22483736 0.56710748 0.62369733]]\n"
     ]
    }
   ],
   "source": [
    "import numpy as np\n",
    "import csv \n",
    "\n",
    "with open(\"trial_for_csv_saving.csv\", \"r\") as file:\n",
    "    reader = csv.reader(file)\n",
    "    data = list(reader)\n",
    "    for ele in data:\n",
    "        if ele == []:\n",
    "            data.remove(ele)\n",
    "    data = np.array(data).astype(\"float\")\n",
    "print(data)"
   ]
  },
  {
   "cell_type": "code",
   "execution_count": null,
   "metadata": {},
   "outputs": [],
   "source": []
  }
 ],
 "metadata": {
  "kernelspec": {
   "display_name": "differential_eqn_solver",
   "language": "python",
   "name": "python3"
  },
  "language_info": {
   "codemirror_mode": {
    "name": "ipython",
    "version": 3
   },
   "file_extension": ".py",
   "mimetype": "text/x-python",
   "name": "python",
   "nbconvert_exporter": "python",
   "pygments_lexer": "ipython3",
   "version": "3.12.4"
  }
 },
 "nbformat": 4,
 "nbformat_minor": 2
}
