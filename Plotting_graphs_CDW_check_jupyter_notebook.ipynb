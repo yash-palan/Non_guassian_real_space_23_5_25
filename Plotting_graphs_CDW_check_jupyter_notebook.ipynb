{
 "cells": [
  {
   "cell_type": "code",
   "execution_count": null,
   "metadata": {},
   "outputs": [
    {
     "ename": "ImportError",
     "evalue": "cannot import name 'correlation_functions_file_18_10_24' from 'Common_codes' (/home/palan/Yash/PhD Work/Project 3/Non_gaussian_states_real_space_trial_2_optimised/Common_codes/__init__.py)",
     "output_type": "error",
     "traceback": [
      "\u001b[0;31m---------------------------------------------------------------------------\u001b[0m",
      "\u001b[0;31mImportError\u001b[0m                               Traceback (most recent call last)",
      "Cell \u001b[0;32mIn[1], line 3\u001b[0m\n\u001b[1;32m      1\u001b[0m \u001b[38;5;28;01mimport\u001b[39;00m \u001b[38;5;21;01mmatplotlib\u001b[39;00m\u001b[38;5;21;01m.\u001b[39;00m\u001b[38;5;21;01mpyplot\u001b[39;00m \u001b[38;5;28;01mas\u001b[39;00m \u001b[38;5;21;01mplt\u001b[39;00m\n\u001b[1;32m      2\u001b[0m \u001b[38;5;28;01mimport\u001b[39;00m \u001b[38;5;21;01mnumpy\u001b[39;00m \u001b[38;5;28;01mas\u001b[39;00m \u001b[38;5;21;01mnp\u001b[39;00m\n\u001b[0;32m----> 3\u001b[0m \u001b[38;5;28;01mfrom\u001b[39;00m \u001b[38;5;21;01mCommon_codes\u001b[39;00m \u001b[38;5;28;01mimport\u001b[39;00m correlation_functions_file_18_10_24 \u001b[38;5;28;01mas\u001b[39;00m cff\n\u001b[1;32m      4\u001b[0m \u001b[38;5;28;01mfrom\u001b[39;00m \u001b[38;5;21;01mCommon_codes\u001b[39;00m \u001b[38;5;28;01mimport\u001b[39;00m evolution_video_creator \u001b[38;5;28;01mas\u001b[39;00m evc\n\u001b[1;32m      5\u001b[0m \u001b[38;5;28;01mfrom\u001b[39;00m \u001b[38;5;21;01mCommon_codes\u001b[39;00m \u001b[38;5;28;01mimport\u001b[39;00m generic_codes_18_10_24 \u001b[38;5;28;01mas\u001b[39;00m gc    \n",
      "\u001b[0;31mImportError\u001b[0m: cannot import name 'correlation_functions_file_18_10_24' from 'Common_codes' (/home/palan/Yash/PhD Work/Project 3/Non_gaussian_states_real_space_trial_2_optimised/Common_codes/__init__.py)"
     ]
    }
   ],
   "source": [
    "import matplotlib.pyplot as plt\n",
    "import numpy as np\n",
    "from Common_codes import correlation_functions_file_20_3_25 as cff\n",
    "from Common_codes import evolution_video_creator as evc\n",
    "from Common_codes import generic_codes_18_10_24 as gc    \n",
    "from Common_codes import class_defn_file_18_10_24 as cdf\n",
    "from Common_codes import evolution_video_creator as evc\n",
    "from Common_codes import hamiltonian_derivative_matrices_18_10_24 as hdm"
   ]
  },
  {
   "cell_type": "code",
   "execution_count": null,
   "metadata": {},
   "outputs": [
    {
     "name": "stdout",
     "output_type": "stream",
     "text": [
      "Position space grid created\n",
      "Momentum space grid created\n",
      " J_0 matrix created\n"
     ]
    },
    {
     "data": {
      "image/png": "[encoded data removed]",
      "text/plain": [
       "<Figure size 640x480 with 2 Axes>"
      ]
     },
     "metadata": {},
     "output_type": "display_data"
    },
    {
     "name": "stdout",
     "output_type": "stream",
     "text": [
      "Completed extraction of matrices from the files\n"
     ]
    }
   ],
   "source": [
    "###########################################################\n",
    "###########################################################\n",
    "number_of_points = 10\n",
    "positon_value_max = [10 , 10]\n",
    "positon_value_min = [0  , 0]\n",
    "position_space_grid = gc.coordinate_array_creator_function(positon_value_min,positon_value_max,number_of_points,True)\n",
    "N_f = np.shape(position_space_grid)[0]\n",
    "print(\"Position space grid created\")\n",
    "\n",
    "momentum_value_max = [np.pi/(positon_value_max[0]-positon_value_min[0])*number_of_points ,np.pi/(positon_value_max[1]-positon_value_min[1])*number_of_points]\n",
    "momentum_value_min = [-np.pi/(positon_value_max[0]-positon_value_min[0])*number_of_points ,-np.pi/(positon_value_max[1]-positon_value_min[1])*number_of_points]\n",
    "momentum_space_grid = gc.coordinate_array_creator_function(momentum_value_min,momentum_value_max,number_of_points,False)\n",
    "N_b = np.shape(momentum_space_grid)[0]\n",
    "print(\"Momentum space grid created\")\n",
    "\n",
    "boson_space_grid = gc.coordinate_array_creator_function(positon_value_min,positon_value_max,number_of_points,False)\n",
    "fourier_transform_matrix = gc.creating_fourier_matrix(momentum_space_grid,position_space_grid)\n",
    "\n",
    "volume = np.prod(np.array(positon_value_max)-np.array(positon_value_min))\n",
    "\n",
    "###########################################################\n",
    "###########################################################\n",
    "\n",
    "momentum_space_mesh = np.meshgrid(np.linspace(momentum_value_min[0],momentum_value_max[0],number_of_points,endpoint=False),np.linspace(momentum_value_min[1],momentum_value_max[1],number_of_points,endpoint=False))\n",
    "\n",
    "\n",
    "###########################################################\n",
    "###########################################################\n",
    "\n",
    "J_0 = -1\n",
    "J_0_matrix = gc.creating_J_0_matrix(position_space_grid,J_0,positon_value_max[0],spin_index=True)\n",
    "print(\" J_0 matrix created\")\n",
    "plt.pcolormesh(J_0_matrix)\n",
    "plt.title(\"J_0 matrix\")\n",
    "plt.colorbar()\n",
    "plt.show()\n",
    "\n",
    "# J_0_matrix = np.diag(np.ones(N_f)*J_0,1) + np.diag(np.ones(N_f)*J_0,-1)\n",
    "omega_0 = 10*np.abs(J_0)\n",
    "omega = 10*np.abs(J_0)*np.identity(N_b)\n",
    "# print(\"omega matrix created\")\n",
    "\n",
    "gamma_0 = 0.5*omega_0\n",
    "gamma = gamma_0*np.append(np.identity(N_b),np.identity(N_b),axis = 1)\n",
    "\n",
    "chemical_potential_val = -4.5\n",
    "###########################################################\n",
    "###########################################################\n",
    "# Extracting delta_r\n",
    "# filename = \"imag_time_evo_final_delta_r_mu_-4.5_t_25.npy\"\n",
    "# filename = \"imag_time_evo_final_delta_r_sc_mu_-4_t=25.npy\"\n",
    "# filename = \"imag_time_evo_final_delta_r_mu=-0p6_t=15.npy\"\n",
    "# filename = \"imag_time_evo_final_delta_r_sc_mu_m5p3_t=25.npy\"\n",
    "# filename = \"imag_time_evo_final_delta_r_sc_mu_m4p5_t=25.npy\"\n",
    "filename = \"imag_time_evo_final_delta_r_mu_-5.1_t=10.npy\"\n",
    "# filename = \"imag_time_evo_final_delta_r_t=50.npy\"\n",
    "delta_r = np.load(filename)\n",
    "\n",
    "# Extracting Gamma_b\n",
    "# filename = \"imag_time_evo_final_gamma_b_mu_-4.5_t_25.npy\"\n",
    "# filename = \"imag_time_evo_final_gamma_b_sc_mu_-4_t=25.npy\"\n",
    "# filename = \"imag_time_evo_final_gamma_b_mu=-0p6_t=15.npy\"\n",
    "# filename = \"imag_time_evo_final_gamma_b_sc_mu_m5p3_t=25.npy\"\n",
    "# filename = \"imag_time_evo_final_gamma_b_sc_mu_m4p5_t=25.npy\"\n",
    "# filename = \"imag_time_evo_final_gamma_b_t=50.npy\"\n",
    "filename = \"imag_time_evo_final_delta_r_mu_-5.1_t=10.npy\"\n",
    "\n",
    "Gamma_b = np.load(filename)\n",
    "\n",
    "# Extracting Gamma_m\n",
    "# filename = \"imag_time_evo_final_gamma_m_sc_mu_m5p5_t=40.npy\"\n",
    "# filename = \"imag_time_evo_final_gamma_m_sc_mu_-4_t=25.npy\"\n",
    "# filename = \"imag_time_evo_final_gamma_m_mu=-0p6_t=15.npy\"\n",
    "# filename = \"imag_time_evo_final_gamma_m_sc_mu_m5p3_t=25.npy\"\n",
    "# filename = \"imag_time_evo_final_gamma_m_sc_mu_m4p5_t=25.npy\"\n",
    "# filename = \"imag_time_evo_final_gamma_m_mu_-4.5_t_25.npy\"\n",
    "# filename = \"imag_time_evo_final_gamma_m_t=50.npy\"\n",
    "filename = \"imag_time_evo_final_delta_r_mu_-5.1_t=10.npy\"\n",
    "Gamma_m = np.load(filename)\n",
    "\n",
    "# Extracting lambda_q \n",
    "\n",
    "# lmbda = np.reshape(np.load(\"imag_time_evo_final_lambda_sc_mu_m5p5_t=40.npy\"),-1)\n",
    "# lmbda = np.reshape(np.load(\"imag_time_evo_final_lambda_mu_-4.5_t_25.npy\"),-1)\n",
    "# lmbda = np.reshape(np.load(\"imag_time_evo_final_lambda_sc_mu_-4_t=25.npy\"),-1)\n",
    "# lmbda = np.reshape(np.load(\"imag_time_evo_final_lambda_mu=-0p6_t=15.npy\"),-1)\n",
    "# lmbda = np.reshape(np.load(\"imag_time_evo_final_lambda_sc_mu_m5p3_t=25.npy\"),-1)\n",
    "# lmbda = np.reshape(np.load(\"imag_time_evo_final_lambda_sc_mu_m4p5_t=25.npy\"),-1)\n",
    "# lambda_q = np.reshape(np.load(\"imag_time_evo_final_lambda_t=50.npy\"),-1)\n",
    "lambda_q = np.reshape(np.load(\"imag_time_evo_final_delta_r_mu_-5.1_t=10.npy\"))\n",
    "\n",
    "###########################################################\n",
    "###########################################################\n",
    "# Initialising the initial input variables \n",
    "\n",
    "initial_input_variables = cdf.input_variables(position_space_grid,boson_space_grid,fourier_transform_matrix,lambda_q,J_0_matrix,gamma,omega,chemical_potential_val)\n",
    "# initial_input_variables.updating_lambda_bar_from_lambda(lmbda_q=lmbda,volume=N_b)  # Note that here we need to change the volume if we ever do. Else, it is N_b.\n",
    "initial_input_variables.updating_lambda_bar_from_lambda(lambda_q,volume = N_b)  # Note that here we need to change the volume if we ever do. Else, it is N_b.\n",
    "###########################################################\n",
    "###########################################################\n",
    "\n",
    "computed_variables_instance = cdf.computed_variables(N_b,N_f)\n",
    "\n",
    "# Computing the values for the computed_varaibles class\n",
    "computed_variables_instance.initialize_all_variables(initial_input_variables,delta_r,Gamma_b)\n",
    "\n",
    "###########################################################\n",
    "###########################################################\n",
    "print(\"Completed extraction of matrices from the files\")\n"
   ]
  },
  {
   "cell_type": "code",
   "execution_count": 4,
   "metadata": {},
   "outputs": [],
   "source": [
    "# Initialising the computational_variables class\n",
    "computed_variables_instance = cdf.computed_variables(N_b,N_f)\n",
    "\n",
    "# Computing the values for the computed_varaibles class\n",
    "computed_variables_instance.initialize_all_variables(initial_input_variables,delta_r,Gamma_b)\n",
    "\n",
    "\n",
    "correlation_mat_for_non_gaussian_parameters = cff.correlation_matrix_creation(Gamma_m,N_f)\n",
    "# matrix = 1/N_f*np.einsum('kn,lm,mn->kl',initial_input_variables.fourier_array,np.conj(initial_input_variables.fourier_array),correlation_mat_for_non_gaussian_parameters)\n",
    "# # denominator = np.einsum('qm,mn->q',np.conj(initial_input_variables.fourier_array),correlation_mat_for_non_gaussian_parameters)\n",
    "# # print(matrix)\n",
    "\n",
    "# rhs_n_m = hdm.rhs_var_par_eqn_of_motion(delta_r,Gamma_b,Gamma_m,initial_input_variables,computed_variables_instance)\n",
    "# fourier_transform_rhs = 1/(N_f*N_b)*np.einsum('ql,kn,nl->qk',np.conj(initial_input_variables.fourier_array[:,0:N_b]),initial_input_variables.fourier_array,rhs_n_m)\n",
    "# solution_matrix = np.linalg.solve(matrix,np.transpose(fourier_transform_rhs) )   \n",
    "# sol_mat_2 = np.linalg.inv(matrix) @ np.transpose(fourier_transform_rhs)\n",
    "\n",
    "# lambda_q_time_derivative = itef.equation_of_motion_for_Non_Gaussian_parameter_lambda(delta_r,Gamma_b,Gamma_m,initial_input_variables,computed_variables_instance)\n",
    "\n",
    "# print(solution_matrix)"
   ]
  },
  {
   "cell_type": "code",
   "execution_count": null,
   "metadata": {},
   "outputs": [],
   "source": [
    "spin_summed_correlation_matrix = (correlation_mat_for_non_gaussian_parameters[0:N_b,0:N_b]+correlation_mat_for_non_gaussian_parameters[0:N_b,N_b:]\n",
    "                                 +correlation_mat_for_non_gaussian_parameters[N_b:,0:N_b]+correlation_mat_for_non_gaussian_parameters[N_b:,N_b:])\n",
    "matrix_3 = (2/N_f)*np.einsum('kn,lm,mn->kl',initial_input_variables.fourier_array[:,0:N_b],np.conj(initial_input_variables.fourier_array[:,0:N_b]),spin_summed_correlation_matrix)\n",
    "\n",
    "spin_summed_rhs = rhs_n_m[0:N_b,:]+rhs_n_m[N_b:,:]\n",
    "fourier_transform_rhs_3 = np.einsum('ql,kn,nl->qk',np.conj(initial_input_variables.fourier_array[:,0:N_b]),initial_input_variables.fourier_array[:,0:N_b],spin_summed_rhs)\n",
    "\n",
    "solution_matrix_3 = np.linalg.solve(matrix_3,np.transpose(fourier_transform_rhs_3) )   "
   ]
  },
  {
   "cell_type": "code",
   "execution_count": 5,
   "metadata": {},
   "outputs": [],
   "source": [
    "spin_summed_correlation_matrix = (correlation_mat_for_non_gaussian_parameters[0:N_b,0:N_b]+correlation_mat_for_non_gaussian_parameters[0:N_b,N_b:]\n",
    "                                 +correlation_mat_for_non_gaussian_parameters[N_b:,0:N_b]+correlation_mat_for_non_gaussian_parameters[N_b:,N_b:])\n"
   ]
  },
  {
   "cell_type": "code",
   "execution_count": 21,
   "metadata": {},
   "outputs": [
    {
     "name": "stdout",
     "output_type": "stream",
     "text": [
      "Original Condition Number: 8.037234263934089\n",
      "Column Scaled Condition Number: 8.030996572323632\n",
      "Row Scaled Condition Number: 8.030996572323632\n"
     ]
    }
   ],
   "source": [
    "col_norms = np.linalg.norm(spin_summed_correlation_matrix, axis=0)  # Compute column norms\n",
    "A_col_scaled = spin_summed_correlation_matrix / col_norms           # Scale columns\n",
    "\n",
    "b = np.ones(int(N_f/2))\n",
    "# Solve Ax = b normally and with scaling\n",
    "x_original = np.linalg.pinv(spin_summed_correlation_matrix) @ b\n",
    "x_col_scaled = np.linalg.pinv(A_col_scaled) @ b  # No need to scale b\n",
    "\n",
    "print(\"Original Condition Number:\", np.linalg.cond(spin_summed_correlation_matrix))\n",
    "print(\"Column Scaled Condition Number:\", np.linalg.cond(A_col_scaled))\n",
    "\n",
    "# Row Scaling\n",
    "row_norms = np.linalg.norm(spin_summed_correlation_matrix, axis=1, keepdims=True)\n",
    "A_row_scaled = spin_summed_correlation_matrix / row_norms\n",
    "b_row_scaled = b / row_norms.flatten()  # Scale b to match\n",
    "\n",
    "x_row_scaled = np.linalg.pinv(A_row_scaled) @ b_row_scaled  # Solve\n",
    "x_row_scaled_original = x_row_scaled  # No need to adjust back\n",
    "\n",
    "print(\"Row Scaled Condition Number:\", np.linalg.cond(A_row_scaled))"
   ]
  },
  {
   "cell_type": "code",
   "execution_count": 8,
   "metadata": {},
   "outputs": [
    {
     "name": "stdout",
     "output_type": "stream",
     "text": [
      "eigenvalues: [0.03998679 0.32138323 0.05704394 0.05689464 0.05696536 0.05691004\n",
      " 0.30883899 0.30892558 0.30898982 0.30900087 0.07296885 0.07298024\n",
      " 0.07289177 0.07290336 0.29649966 0.29658078 0.29651514 0.29659623\n",
      " 0.09904608 0.09904608 0.0989855  0.0989855  0.27705611 0.27705612\n",
      " 0.27712149 0.27712149 0.26459389 0.26469893 0.26469547 0.11307225\n",
      " 0.112966   0.11298384 0.11296882 0.11300784 0.26467067 0.11307262\n",
      " 0.11300287 0.26465465 0.26466151 0.26468045 0.26459445 0.11299124\n",
      " 0.23879133 0.23879131 0.23883041 0.2388304  0.14732462 0.14728157\n",
      " 0.14728156 0.14732462 0.20880236 0.2087496  0.20871191 0.20876001\n",
      " 0.23221314 0.23221314 0.14890264 0.14890264 0.14890223 0.14890223\n",
      " 0.23221159 0.23221159 0.18386879 0.18388513 0.18394157 0.18390014\n",
      " 0.19748896 0.19738457 0.2259481  0.2259481  0.15976214 0.15976214\n",
      " 0.22605235 0.1596514  0.15965141 0.22603721 0.22605234 0.22603719\n",
      " 0.15966233 0.15966234 0.15967449 0.1596745  0.19554042 0.19536524\n",
      " 0.19555602 0.19537652 0.22602553 0.22602553 0.1954401  0.19546614\n",
      " 0.1954512  0.19545067 0.19204564 0.19209916 0.19204564 0.19209916\n",
      " 0.19208688 0.19208688 0.19205629 0.19205629]\n",
      "eigenvectors: [[ 0.10786238-8.70160951e-18j -0.08964936-3.23032772e-18j\n",
      "   0.09317636+1.81126514e-18j ... -0.03330755+8.07997760e-09j\n",
      "   0.17526769-1.58768227e-09j -0.04909453-5.38434199e-08j]\n",
      " [ 0.10518294-1.22134852e-17j  0.09276077+8.43685408e-18j\n",
      "   0.0549409 -4.14619149e-16j ... -0.09403064+3.33479322e-09j\n",
      "   0.01738755+5.36836766e-08j  0.1752544 +0.00000000e+00j]\n",
      " [ 0.09995504-1.72893577e-17j -0.09913989-1.62176576e-17j\n",
      "  -0.01948331-6.56539613e-16j ... -0.06946654-8.92869893e-09j\n",
      "  -0.15639604-1.56992735e-08j -0.01345297+4.63478449e-08j]\n",
      " ...\n",
      " [ 0.096925  -5.26465128e-18j -0.10303036+4.60788638e-19j\n",
      "  -0.06182832+6.94497881e-16j ... -0.12570087+5.01273372e-09j\n",
      "   0.12164097-1.84517680e-08j -0.09211679-3.90901964e-08j]\n",
      " [ 0.10266633-3.70209090e-18j  0.09578162-3.05377245e-18j\n",
      "   0.01988932+7.14845713e-16j ... -0.05737836-7.09603527e-09j\n",
      "   0.07777729+5.21978576e-08j  0.15519789-1.86452703e-08j]\n",
      " [ 0.10694858-8.73013075e-18j -0.09070963-2.45131112e-18j\n",
      "   0.08154162+4.67559752e-16j ...  0.03149152-8.13016830e-09j\n",
      "  -0.17419583+2.74948143e-09j  0.05271356+5.36303486e-08j]]\n"
     ]
    }
   ],
   "source": [
    "sol=np.linalg.eig(spin_summed_correlation_matrix)\n",
    "print(\"eigenvalues:\",sol[0].real)\n",
    "print(\"eigenvectors:\",sol[1])"
   ]
  },
  {
   "cell_type": "code",
   "execution_count": 16,
   "metadata": {},
   "outputs": [
    {
     "data": {
      "text/plain": [
       "array([0.32138323, 0.30900087, 0.30898982, 0.30892558, 0.30883899,\n",
       "       0.29659623, 0.29658078, 0.29651514, 0.29649966, 0.27712149,\n",
       "       0.27712149, 0.27705612, 0.27705611, 0.26469893, 0.26469547,\n",
       "       0.26468045, 0.26467067, 0.26466151, 0.26465465, 0.26459445,\n",
       "       0.26459389, 0.23883041, 0.2388304 , 0.23879133, 0.23879131,\n",
       "       0.23221314, 0.23221314, 0.23221159, 0.23221159, 0.22605235,\n",
       "       0.22605234, 0.22603721, 0.22603719, 0.22602553, 0.22602553,\n",
       "       0.2259481 , 0.2259481 , 0.20880236, 0.20876001, 0.2087496 ,\n",
       "       0.20871191, 0.19748896, 0.19738457, 0.19555602, 0.19554042,\n",
       "       0.19546614, 0.1954512 , 0.19545067, 0.1954401 , 0.19537652,\n",
       "       0.19536524, 0.19209916, 0.19209916, 0.19208688, 0.19208688,\n",
       "       0.19205629, 0.19205629, 0.19204564, 0.19204564, 0.18394157,\n",
       "       0.18390014, 0.18388513, 0.18386879, 0.15976214, 0.15976214,\n",
       "       0.1596745 , 0.15967449, 0.15966234, 0.15966233, 0.15965141,\n",
       "       0.1596514 , 0.14890264, 0.14890264, 0.14890223, 0.14890223,\n",
       "       0.14732462, 0.14732462, 0.14728157, 0.14728156, 0.11307262,\n",
       "       0.11307225, 0.11300784, 0.11300287, 0.11299124, 0.11298384,\n",
       "       0.11296882, 0.112966  , 0.09904608, 0.09904608, 0.0989855 ,\n",
       "       0.0989855 , 0.07298024, 0.07296885, 0.07290336, 0.07289177,\n",
       "       0.05704394, 0.05696536, 0.05691004, 0.05689464, 0.03998679])"
      ]
     },
     "execution_count": 16,
     "metadata": {},
     "output_type": "execute_result"
    }
   ],
   "source": [
    "np.linalg.svd(spin_summed_correlation_matrix, compute_uv=False)"
   ]
  },
  {
   "cell_type": "code",
   "execution_count": 10,
   "metadata": {},
   "outputs": [
    {
     "data": {
      "text/plain": [
       "8.037234263934097"
      ]
     },
     "execution_count": 10,
     "metadata": {},
     "output_type": "execute_result"
    }
   ],
   "source": [
    "np.linalg.cond(correlation_mat_for_non_gaussian_parameters)"
   ]
  },
  {
   "cell_type": "code",
   "execution_count": 13,
   "metadata": {},
   "outputs": [
    {
     "data": {
      "image/png": "[encoded data removed]",
      "text/plain": [
       "<Figure size 640x480 with 2 Axes>"
      ]
     },
     "metadata": {},
     "output_type": "display_data"
    }
   ],
   "source": [
    "plt.pcolormesh(np.linalg.inv(correlation_mat_for_non_gaussian_parameters).real)\n",
    "plt.colorbar()\n",
    "plt.show()"
   ]
  },
  {
   "cell_type": "code",
   "execution_count": 14,
   "metadata": {},
   "outputs": [
    {
     "name": "stdout",
     "output_type": "stream",
     "text": [
      "Original Condition Number: 3.6443300726445003e+22\n",
      "Column Scaled Condition Number: 4.009885868095971e+19\n",
      "Row Scaled Condition Number: 4.0042623391535657e+18\n",
      "\n",
      "Original Solution: [1.001998e-06 1.001998e-03]\n",
      "Solution (Column Scaling): [0.5009995 0.000501 ]\n",
      "Solution (Row Scaling): [0.0010005 1.000499 ]\n"
     ]
    }
   ],
   "source": [
    "import numpy as np\n",
    "\n",
    "# Define a poorly conditioned matrix\n",
    "A = np.array([[1, 1000], \n",
    "              [0.001, 1]])  # High condition number\n",
    "b = np.array([1, 2])\n",
    "\n",
    "# Column Scaling\n",
    "col_norms = np.linalg.norm(A, axis=0)  # Compute column norms\n",
    "A_col_scaled = A / col_norms           # Scale columns\n",
    "\n",
    "# Solve Ax = b normally and with scaling\n",
    "x_original = np.linalg.pinv(A) @ b\n",
    "x_col_scaled = np.linalg.pinv(A_col_scaled) @ b  # No need to scale b\n",
    "\n",
    "# Recover the original solution\n",
    "x_col_scaled_original = x_col_scaled / col_norms  # Reverse column scaling\n",
    "\n",
    "# Row Scaling\n",
    "row_norms = np.linalg.norm(A, axis=1, keepdims=True)\n",
    "A_row_scaled = A / row_norms\n",
    "b_row_scaled = b / row_norms.flatten()  # Scale b to match\n",
    "\n",
    "x_row_scaled = np.linalg.pinv(A_row_scaled) @ b_row_scaled  # Solve\n",
    "x_row_scaled_original = x_row_scaled  # No need to adjust back\n",
    "\n",
    "# Display results\n",
    "print(\"Original Condition Number:\", np.linalg.cond(A))\n",
    "print(\"Column Scaled Condition Number:\", np.linalg.cond(A_col_scaled))\n",
    "print(\"Row Scaled Condition Number:\", np.linalg.cond(A_row_scaled))\n",
    "\n",
    "print(\"\\nOriginal Solution:\", x_original)\n",
    "print(\"Solution (Column Scaling):\", x_col_scaled_original)\n",
    "print(\"Solution (Row Scaling):\", x_row_scaled_original)"
   ]
  },
  {
   "cell_type": "code",
   "execution_count": null,
   "metadata": {},
   "outputs": [],
   "source": []
  }
 ],
 "metadata": {
  "kernelspec": {
   "display_name": "yash_env",
   "language": "python",
   "name": "python3"
  },
  "language_info": {
   "codemirror_mode": {
    "name": "ipython",
    "version": 3
   },
   "file_extension": ".py",
   "mimetype": "text/x-python",
   "name": "python",
   "nbconvert_exporter": "python",
   "pygments_lexer": "ipython3",
   "version": "3.12.3"
  }
 },
 "nbformat": 4,
 "nbformat_minor": 2
}
